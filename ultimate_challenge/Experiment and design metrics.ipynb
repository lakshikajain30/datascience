{
 "cells": [
  {
   "cell_type": "markdown",
   "id": "ac1db633-c4f2-42cb-ae6d-801e420bbb3b",
   "metadata": {},
   "source": [
    "The neighboring cities of Gotham and Metropolis have complementary circadian rhythms: on weekdays, Ultimate Gotham is most active at night, and Ultimate Metropolis is most active during the day. On weekends, there is reasonable activity in both cities.\n",
    "However, a toll bridge, with a two way toll, between the two cities causes driver partners to tend to be exclusive to each city. The Ultimate managers of city operations for the two cities have proposed an experiment to encourage driver partners to be available in both cities, by reimbursing all toll costs."
   ]
  },
  {
   "cell_type": "markdown",
   "id": "8a3e8909-eb1c-4643-ae8b-b12307915ef9",
   "metadata": {},
   "source": [
    "1. What would you choose as the key measure of success of this experiment in encouraging driver partners to serve both cities, and why would you choose this metric?"
   ]
  },
  {
   "cell_type": "markdown",
   "id": "2165a286-8619-45f9-b663-cbde722dadb6",
   "metadata": {},
   "source": [
    "The key measure of success for this experiment would be the percentage of driver partners who serve both cities before and after the toll reimbursement policy. The primary objective of experiment is to encourage driver partners to operate in both cities rather than remaining in one. \n",
    "By analyzing the percentage of drivers serving bith cities before and after toll reimbursement policy, you can easily access the change in behavior. The data to capture this can be easily captured by the trip logs. \n",
    "Few more helpful measures could be measuring the number of trips that are crossing toll bridge and driver earnings to see if the driver's are benefitting from toll bridge and that there is no negative impact on their earnings. \n"
   ]
  },
  {
   "cell_type": "markdown",
   "id": "ab341ea6-69ab-4a8e-9ffd-1be89bd5b3dc",
   "metadata": {},
   "source": [
    "Describe a practical experiment you would design to compare the effectiveness of the proposed change in relation to the key measure of success. Please provide details on:\n",
    "a) how you will implement the experiment\n",
    "b) what statistical test(s) you will conduct to verify the significance of the observation\n",
    "c) how you would interpret the results and provide recommendations to the city operations team along with any caveats.\n"
   ]
  },
  {
   "cell_type": "markdown",
   "id": "3ce99a92-6541-455c-b384-f3800112c0a7",
   "metadata": {},
   "source": [
    "Ans:\n",
    "1) How to implement the experiment: \n",
    "    Having an experiment group and a control group, experiment group drivers will have their tolls reimburesed while the control group drivers will not get any reimbursements for the paid tolls. Bothe groups will be randomly selected from the poll of drivers from both cities.Collect data before the experinment, while the experiment and after the experiment is ended to understand the before and after affects of this change. Data collected should include the details fo trip, earnings and wait times, number of trips, time of day of each trip and driver details. \n",
    "\n",
    "2)what statistical tests you will conduct to verify the significance of the observation?\n",
    "Chi-Square Test for Proportions to compare the percentage of drivers who serve both cities between the experimental and control groups. This test will determine if there is a statistically significant difference in the proportion of drivers serving both cities between the two groups.\n",
    "\n",
    "3) how you would interpret the results and provide recommendations to the city operations team long with any caveats?\n",
    "   If the Results Show a Statistically Significant Increase in Drivers Serving Both Cities:\n",
    "Interpretation: This suggests that toll reimbursement successfully encourages drivers to operate in both cities, overcoming the financial barrier posed by the toll bridge.\n",
    "Recommendation: Scale up the toll reimbursement policy for all drivers in both cities, and potentially extend the experiment to assess other factors (e.g., long-term driver earnings or passenger wait times).\n",
    "Caveats: Ensure that drivers do not feel pressured to accept less profitable cross-city trips just to avoid tolls and monitor driver satisfaction. Also, assess the financial sustainability of reimbursing tolls for all drivers in the long term.\n",
    "2. If the Results Are Not Statistically Significant:\n",
    "Interpretation: This indicates that toll reimbursement alone may not be sufficient to motivate drivers to serve both cities, possibly due to other factors (e.g., preferences for local markets or timing mismatches).\n",
    "Recommendation: Reassess the experiment and consider alternative incentives, such as bonuses for cross-city trips, adjusting fare structures, or offering toll-free lanes during peak hours to attract drivers.\n",
    "Caveats: Lack of significance doesn’t necessarily imply the toll reimbursement is ineffective—it could be due to the experiment's short duration or other unaccounted variables like weather, traffic, or rider demand. Consider extending the experiment or revising its design.\n",
    "\n",
    "    "
   ]
  }
 ],
 "metadata": {
  "kernelspec": {
   "display_name": "Python 3 (ipykernel)",
   "language": "python",
   "name": "python3"
  },
  "language_info": {
   "codemirror_mode": {
    "name": "ipython",
    "version": 3
   },
   "file_extension": ".py",
   "mimetype": "text/x-python",
   "name": "python",
   "nbconvert_exporter": "python",
   "pygments_lexer": "ipython3",
   "version": "3.11.7"
  }
 },
 "nbformat": 4,
 "nbformat_minor": 5
}
